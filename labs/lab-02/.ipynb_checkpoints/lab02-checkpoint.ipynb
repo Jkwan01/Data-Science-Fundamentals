{
 "cells": [
  {
   "attachments": {},
   "cell_type": "markdown",
   "metadata": {},
   "source": [
    "## Lab 02 - Pandas and Data Visualization\n",
    "This notebook will introduce you to the basics of Pandas and Data Visualization. You will learn how to load data into a Pandas DataFrame, how to perform basic data analysis, and how to visualize data. The first part of this notebook will be an interactive tutorial, and the second part will be practice exercises for you to do! **Note that the practice problems will be checked when submitted!**"
   ]
  },
  {
   "cell_type": "markdown",
   "metadata": {},
   "source": [
    "#### Pandas\n",
    "Pandas is a popular open-source Python library that provides data structures and data analysis tools for working with structured data. Pandas is a versatile library that simplifies data manipulation, analysis, and exploration in Python. Some of its uses:\n",
    "* Tabular Data Handling\n",
    "* Data Cleaning and Transformation\n",
    "* Data Exploration\n",
    "* Data Import/Export\n",
    "* Data Visualization\n",
    "\n",
    "#### Matplotlib\n",
    "Matplotlib is a widely used for creating static, animated, and interactive visualizations. Whether you are conducting data analysis, scientific research, or data communication, Matplotlib helps you present your findings effectively and intuitively."
   ]
  },
  {
   "attachments": {},
   "cell_type": "markdown",
   "metadata": {},
   "source": [
    "### Pre-requisites"
   ]
  },
  {
   "cell_type": "code",
   "execution_count": 4,
   "metadata": {},
   "outputs": [],
   "source": [
    "# In case you don't have pandas, uncomment\n",
    "# the following lines and run the cell\n",
    "\n",
    "# %pip install pandas\n",
    "# %pip install matplotlib"
   ]
  },
  {
   "attachments": {},
   "cell_type": "markdown",
   "metadata": {},
   "source": [
    "### Overview\n",
    "In this notebook, you will be learning how to use the Pandas library by working with the `cookies.csv` file. \n",
    "\n",
    "#### `cookies.csv` file :\n",
    "\n",
    "The `cookies.csv` file contains information about cookies that were made in Rico's Bisquito's factory. \n",
    "\n",
    "The columns are the following:\n",
    "\n",
    "`cookie`: the name of a cookie\n",
    "`ingredients`: a list of the cookie's ingredients\n",
    "`calories`: the number of calories the created cookie has\n",
    "`radius`: the radius of the created cookie, in cm\n",
    "`cost_to_make`: the cost it took to make the created cookie, in dollars"
   ]
  },
  {
   "attachments": {},
   "cell_type": "markdown",
   "metadata": {},
   "source": [
    "### Reading the CSV file\n",
    "\n",
    "First, we need to import the Pandas library. We will be using the `pd` alias for the Pandas library."
   ]
  },
  {
   "cell_type": "code",
   "execution_count": 2,
   "metadata": {},
   "outputs": [],
   "source": [
    "#TODO: import pandas and matplotlib in this cell\n",
    "import matplotlib\n",
    "import pandas as pd"
   ]
  },
  {
   "attachments": {},
   "cell_type": "markdown",
   "metadata": {},
   "source": [
    "We will now look at the `cookies.csv` file. We will use the `pd.read_csv()` function to read in the CSV file. We will store the data in a variable called `cookies`."
   ]
  },
  {
   "cell_type": "code",
   "execution_count": 3,
   "metadata": {},
   "outputs": [],
   "source": [
    "#TODO: read the cookies.csv file into a pandas dataframe\n",
    "cookies = pd.read_csv(\"/Users/jkwan/Desktop/CS506/Data-Science-Fundamentals/labs/lab-02/cookies.csv\")"
   ]
  },
  {
   "attachments": {},
   "cell_type": "markdown",
   "metadata": {},
   "source": [
    "#### Dataframe\n",
    "Dataframes are a data structure that Pandas uses to store data. Dataframes are similar to tables in a database. Dataframes have rows and columns. Each row represents a single data point, and each column represents a feature of the data point."
   ]
  },
  {
   "attachments": {},
   "cell_type": "markdown",
   "metadata": {},
   "source": [
    "We will then make sure we imported the data correctly by printing out the first 10 rows of the data, using the `head()` function."
   ]
  },
  {
   "cell_type": "code",
   "execution_count": 4,
   "metadata": {},
   "outputs": [
    {
     "name": "stdout",
     "output_type": "stream",
     "text": [
      "            cookie                                        ingredients  \\\n",
      "0     laddoo lemon             [\"flour\",\"lemon juice\",\"sugar\",\"ghee\"]   \n",
      "1  red velvet rauw  [\"flour\",\"cocoa powder\",\"butter\",\"red food col...   \n",
      "2         nevadito  [\"flour\",\"chocolate chips\",\"milk\",\"vanilla ext...   \n",
      "3  red velvet rauw  [\"flour\",\"cocoa powder\",\"butter\",\"red food col...   \n",
      "4  bad berry bunny           [\"flour\",\"blueberries\",\"sugar\",\"butter\"]   \n",
      "\n",
      "   calories  radius  cost_to_make  \n",
      "0       170   3.102          0.67  \n",
      "1       198   3.780          1.07  \n",
      "2       224   4.069          1.04  \n",
      "3       198   3.780          1.07  \n",
      "4       191   4.148          1.39  \n",
      "            cookie                                        ingredients  \\\n",
      "0     laddoo lemon             [\"flour\",\"lemon juice\",\"sugar\",\"ghee\"]   \n",
      "1  red velvet rauw  [\"flour\",\"cocoa powder\",\"butter\",\"red food col...   \n",
      "2         nevadito  [\"flour\",\"chocolate chips\",\"milk\",\"vanilla ext...   \n",
      "3  red velvet rauw  [\"flour\",\"cocoa powder\",\"butter\",\"red food col...   \n",
      "4  bad berry bunny           [\"flour\",\"blueberries\",\"sugar\",\"butter\"]   \n",
      "\n",
      "   calories  radius  cost_to_make  \n",
      "0       170   3.102          0.67  \n",
      "1       198   3.780          1.07  \n",
      "2       224   4.069          1.04  \n",
      "3       198   3.780          1.07  \n",
      "4       191   4.148          1.39  \n",
      "            cookie                                        ingredients  \\\n",
      "0     laddoo lemon             [\"flour\",\"lemon juice\",\"sugar\",\"ghee\"]   \n",
      "1  red velvet rauw  [\"flour\",\"cocoa powder\",\"butter\",\"red food col...   \n",
      "2         nevadito  [\"flour\",\"chocolate chips\",\"milk\",\"vanilla ext...   \n",
      "3  red velvet rauw  [\"flour\",\"cocoa powder\",\"butter\",\"red food col...   \n",
      "4  bad berry bunny           [\"flour\",\"blueberries\",\"sugar\",\"butter\"]   \n",
      "\n",
      "   calories  radius  cost_to_make  \n",
      "0       170   3.102          0.67  \n",
      "1       198   3.780          1.07  \n",
      "2       224   4.069          1.04  \n",
      "3       198   3.780          1.07  \n",
      "4       191   4.148          1.39  \n",
      "            cookie                                        ingredients  \\\n",
      "0     laddoo lemon             [\"flour\",\"lemon juice\",\"sugar\",\"ghee\"]   \n",
      "1  red velvet rauw  [\"flour\",\"cocoa powder\",\"butter\",\"red food col...   \n",
      "2         nevadito  [\"flour\",\"chocolate chips\",\"milk\",\"vanilla ext...   \n",
      "3  red velvet rauw  [\"flour\",\"cocoa powder\",\"butter\",\"red food col...   \n",
      "4  bad berry bunny           [\"flour\",\"blueberries\",\"sugar\",\"butter\"]   \n",
      "\n",
      "   calories  radius  cost_to_make  \n",
      "0       170   3.102          0.67  \n",
      "1       198   3.780          1.07  \n",
      "2       224   4.069          1.04  \n",
      "3       198   3.780          1.07  \n",
      "4       191   4.148          1.39  \n",
      "            cookie                                        ingredients  \\\n",
      "0     laddoo lemon             [\"flour\",\"lemon juice\",\"sugar\",\"ghee\"]   \n",
      "1  red velvet rauw  [\"flour\",\"cocoa powder\",\"butter\",\"red food col...   \n",
      "2         nevadito  [\"flour\",\"chocolate chips\",\"milk\",\"vanilla ext...   \n",
      "3  red velvet rauw  [\"flour\",\"cocoa powder\",\"butter\",\"red food col...   \n",
      "4  bad berry bunny           [\"flour\",\"blueberries\",\"sugar\",\"butter\"]   \n",
      "\n",
      "   calories  radius  cost_to_make  \n",
      "0       170   3.102          0.67  \n",
      "1       198   3.780          1.07  \n",
      "2       224   4.069          1.04  \n",
      "3       198   3.780          1.07  \n",
      "4       191   4.148          1.39  \n",
      "            cookie                                        ingredients  \\\n",
      "0     laddoo lemon             [\"flour\",\"lemon juice\",\"sugar\",\"ghee\"]   \n",
      "1  red velvet rauw  [\"flour\",\"cocoa powder\",\"butter\",\"red food col...   \n",
      "2         nevadito  [\"flour\",\"chocolate chips\",\"milk\",\"vanilla ext...   \n",
      "3  red velvet rauw  [\"flour\",\"cocoa powder\",\"butter\",\"red food col...   \n",
      "4  bad berry bunny           [\"flour\",\"blueberries\",\"sugar\",\"butter\"]   \n",
      "\n",
      "   calories  radius  cost_to_make  \n",
      "0       170   3.102          0.67  \n",
      "1       198   3.780          1.07  \n",
      "2       224   4.069          1.04  \n",
      "3       198   3.780          1.07  \n",
      "4       191   4.148          1.39  \n",
      "            cookie                                        ingredients  \\\n",
      "0     laddoo lemon             [\"flour\",\"lemon juice\",\"sugar\",\"ghee\"]   \n",
      "1  red velvet rauw  [\"flour\",\"cocoa powder\",\"butter\",\"red food col...   \n",
      "2         nevadito  [\"flour\",\"chocolate chips\",\"milk\",\"vanilla ext...   \n",
      "3  red velvet rauw  [\"flour\",\"cocoa powder\",\"butter\",\"red food col...   \n",
      "4  bad berry bunny           [\"flour\",\"blueberries\",\"sugar\",\"butter\"]   \n",
      "\n",
      "   calories  radius  cost_to_make  \n",
      "0       170   3.102          0.67  \n",
      "1       198   3.780          1.07  \n",
      "2       224   4.069          1.04  \n",
      "3       198   3.780          1.07  \n",
      "4       191   4.148          1.39  \n",
      "            cookie                                        ingredients  \\\n",
      "0     laddoo lemon             [\"flour\",\"lemon juice\",\"sugar\",\"ghee\"]   \n",
      "1  red velvet rauw  [\"flour\",\"cocoa powder\",\"butter\",\"red food col...   \n",
      "2         nevadito  [\"flour\",\"chocolate chips\",\"milk\",\"vanilla ext...   \n",
      "3  red velvet rauw  [\"flour\",\"cocoa powder\",\"butter\",\"red food col...   \n",
      "4  bad berry bunny           [\"flour\",\"blueberries\",\"sugar\",\"butter\"]   \n",
      "\n",
      "   calories  radius  cost_to_make  \n",
      "0       170   3.102          0.67  \n",
      "1       198   3.780          1.07  \n",
      "2       224   4.069          1.04  \n",
      "3       198   3.780          1.07  \n",
      "4       191   4.148          1.39  \n",
      "            cookie                                        ingredients  \\\n",
      "0     laddoo lemon             [\"flour\",\"lemon juice\",\"sugar\",\"ghee\"]   \n",
      "1  red velvet rauw  [\"flour\",\"cocoa powder\",\"butter\",\"red food col...   \n",
      "2         nevadito  [\"flour\",\"chocolate chips\",\"milk\",\"vanilla ext...   \n",
      "3  red velvet rauw  [\"flour\",\"cocoa powder\",\"butter\",\"red food col...   \n",
      "4  bad berry bunny           [\"flour\",\"blueberries\",\"sugar\",\"butter\"]   \n",
      "\n",
      "   calories  radius  cost_to_make  \n",
      "0       170   3.102          0.67  \n",
      "1       198   3.780          1.07  \n",
      "2       224   4.069          1.04  \n",
      "3       198   3.780          1.07  \n",
      "4       191   4.148          1.39  \n",
      "            cookie                                        ingredients  \\\n",
      "0     laddoo lemon             [\"flour\",\"lemon juice\",\"sugar\",\"ghee\"]   \n",
      "1  red velvet rauw  [\"flour\",\"cocoa powder\",\"butter\",\"red food col...   \n",
      "2         nevadito  [\"flour\",\"chocolate chips\",\"milk\",\"vanilla ext...   \n",
      "3  red velvet rauw  [\"flour\",\"cocoa powder\",\"butter\",\"red food col...   \n",
      "4  bad berry bunny           [\"flour\",\"blueberries\",\"sugar\",\"butter\"]   \n",
      "\n",
      "   calories  radius  cost_to_make  \n",
      "0       170   3.102          0.67  \n",
      "1       198   3.780          1.07  \n",
      "2       224   4.069          1.04  \n",
      "3       198   3.780          1.07  \n",
      "4       191   4.148          1.39  \n"
     ]
    }
   ],
   "source": [
    "#TODO: print the head of the dataframe\n",
    "for i in range(10):\n",
    "    print(cookies.head())"
   ]
  },
  {
   "attachments": {},
   "cell_type": "markdown",
   "metadata": {},
   "source": [
    "### Checking data types\n",
    "You can check the data types of each column using the `dtypes` attribute of the DataFrame."
   ]
  },
  {
   "cell_type": "code",
   "execution_count": 5,
   "metadata": {},
   "outputs": [
    {
     "name": "stdout",
     "output_type": "stream",
     "text": [
      "cookie           object\n",
      "ingredients      object\n",
      "calories          int64\n",
      "radius          float64\n",
      "cost_to_make    float64\n",
      "dtype: object\n",
      "cookie           object\n",
      "ingredients      object\n",
      "calories          int64\n",
      "radius          float64\n",
      "cost_to_make    float64\n",
      "dtype: object\n",
      "cookie           object\n",
      "ingredients      object\n",
      "calories          int64\n",
      "radius          float64\n",
      "cost_to_make    float64\n",
      "dtype: object\n",
      "cookie           object\n",
      "ingredients      object\n",
      "calories          int64\n",
      "radius          float64\n",
      "cost_to_make    float64\n",
      "dtype: object\n",
      "cookie           object\n",
      "ingredients      object\n",
      "calories          int64\n",
      "radius          float64\n",
      "cost_to_make    float64\n",
      "dtype: object\n",
      "cookie           object\n",
      "ingredients      object\n",
      "calories          int64\n",
      "radius          float64\n",
      "cost_to_make    float64\n",
      "dtype: object\n",
      "cookie           object\n",
      "ingredients      object\n",
      "calories          int64\n",
      "radius          float64\n",
      "cost_to_make    float64\n",
      "dtype: object\n",
      "cookie           object\n",
      "ingredients      object\n",
      "calories          int64\n",
      "radius          float64\n",
      "cost_to_make    float64\n",
      "dtype: object\n",
      "cookie           object\n",
      "ingredients      object\n",
      "calories          int64\n",
      "radius          float64\n",
      "cost_to_make    float64\n",
      "dtype: object\n",
      "cookie           object\n",
      "ingredients      object\n",
      "calories          int64\n",
      "radius          float64\n",
      "cost_to_make    float64\n",
      "dtype: object\n"
     ]
    }
   ],
   "source": [
    "#TODO: check the data types of the columns\n",
    "for i in range(10):\n",
    "    print(cookies.head().dtypes)"
   ]
  },
  {
   "cell_type": "markdown",
   "metadata": {},
   "source": [
    "Now, lets use use `info()` function to get more information about the Dataframe"
   ]
  },
  {
   "cell_type": "code",
   "execution_count": 6,
   "metadata": {},
   "outputs": [
    {
     "name": "stdout",
     "output_type": "stream",
     "text": [
      "<class 'pandas.core.series.Series'>\n",
      "Index: 5 entries, cookie to cost_to_make\n",
      "Series name: None\n",
      "Non-Null Count  Dtype \n",
      "--------------  ----- \n",
      "5 non-null      object\n",
      "dtypes: object(1)\n",
      "memory usage: 252.0+ bytes\n",
      "None\n",
      "<class 'pandas.core.series.Series'>\n",
      "Index: 5 entries, cookie to cost_to_make\n",
      "Series name: None\n",
      "Non-Null Count  Dtype \n",
      "--------------  ----- \n",
      "5 non-null      object\n",
      "dtypes: object(1)\n",
      "memory usage: 252.0+ bytes\n",
      "None\n",
      "<class 'pandas.core.series.Series'>\n",
      "Index: 5 entries, cookie to cost_to_make\n",
      "Series name: None\n",
      "Non-Null Count  Dtype \n",
      "--------------  ----- \n",
      "5 non-null      object\n",
      "dtypes: object(1)\n",
      "memory usage: 252.0+ bytes\n",
      "None\n",
      "<class 'pandas.core.series.Series'>\n",
      "Index: 5 entries, cookie to cost_to_make\n",
      "Series name: None\n",
      "Non-Null Count  Dtype \n",
      "--------------  ----- \n",
      "5 non-null      object\n",
      "dtypes: object(1)\n",
      "memory usage: 252.0+ bytes\n",
      "None\n",
      "<class 'pandas.core.series.Series'>\n",
      "Index: 5 entries, cookie to cost_to_make\n",
      "Series name: None\n",
      "Non-Null Count  Dtype \n",
      "--------------  ----- \n",
      "5 non-null      object\n",
      "dtypes: object(1)\n",
      "memory usage: 252.0+ bytes\n",
      "None\n",
      "<class 'pandas.core.series.Series'>\n",
      "Index: 5 entries, cookie to cost_to_make\n",
      "Series name: None\n",
      "Non-Null Count  Dtype \n",
      "--------------  ----- \n",
      "5 non-null      object\n",
      "dtypes: object(1)\n",
      "memory usage: 252.0+ bytes\n",
      "None\n",
      "<class 'pandas.core.series.Series'>\n",
      "Index: 5 entries, cookie to cost_to_make\n",
      "Series name: None\n",
      "Non-Null Count  Dtype \n",
      "--------------  ----- \n",
      "5 non-null      object\n",
      "dtypes: object(1)\n",
      "memory usage: 252.0+ bytes\n",
      "None\n",
      "<class 'pandas.core.series.Series'>\n",
      "Index: 5 entries, cookie to cost_to_make\n",
      "Series name: None\n",
      "Non-Null Count  Dtype \n",
      "--------------  ----- \n",
      "5 non-null      object\n",
      "dtypes: object(1)\n",
      "memory usage: 252.0+ bytes\n",
      "None\n",
      "<class 'pandas.core.series.Series'>\n",
      "Index: 5 entries, cookie to cost_to_make\n",
      "Series name: None\n",
      "Non-Null Count  Dtype \n",
      "--------------  ----- \n",
      "5 non-null      object\n",
      "dtypes: object(1)\n",
      "memory usage: 252.0+ bytes\n",
      "None\n",
      "<class 'pandas.core.series.Series'>\n",
      "Index: 5 entries, cookie to cost_to_make\n",
      "Series name: None\n",
      "Non-Null Count  Dtype \n",
      "--------------  ----- \n",
      "5 non-null      object\n",
      "dtypes: object(1)\n",
      "memory usage: 252.0+ bytes\n",
      "None\n"
     ]
    }
   ],
   "source": [
    "# TODO: use info() to get information about datatypes and null values\n",
    "for i in range(10):\n",
    "    print(cookies.head().dtypes.info())"
   ]
  },
  {
   "attachments": {},
   "cell_type": "markdown",
   "metadata": {},
   "source": [
    "### Cleaning the data\n",
    "Now that we have the data, we need to clean it. For example, some `cost_to_make` fields of some created cookies are missing. To resolve this, we can do many things: we can replace the missing data with the mean of the column, or we can get rid of the row entirely if the `cost_to_make` field is not set. "
   ]
  },
  {
   "cell_type": "code",
   "execution_count": 7,
   "metadata": {},
   "outputs": [
    {
     "name": "stdout",
     "output_type": "stream",
     "text": [
      "            cookie                                        ingredients  \\\n",
      "0     laddoo lemon             [\"flour\",\"lemon juice\",\"sugar\",\"ghee\"]   \n",
      "1  red velvet rauw  [\"flour\",\"cocoa powder\",\"butter\",\"red food col...   \n",
      "2         nevadito  [\"flour\",\"chocolate chips\",\"milk\",\"vanilla ext...   \n",
      "3  red velvet rauw  [\"flour\",\"cocoa powder\",\"butter\",\"red food col...   \n",
      "4  bad berry bunny           [\"flour\",\"blueberries\",\"sugar\",\"butter\"]   \n",
      "\n",
      "   calories  radius  cost_to_make  \n",
      "0       170   3.102          0.67  \n",
      "1       198   3.780          1.07  \n",
      "2       224   4.069          1.04  \n",
      "3       198   3.780          1.07  \n",
      "4       191   4.148          1.39  \n"
     ]
    }
   ],
   "source": [
    "#TODO: clean the dataframe and \n",
    "# print the head again to make sure \n",
    "# the changes took effect\n",
    "cookies.dropna(subset=['cost_to_make'], inplace=True)\n",
    "print(cookies.head())"
   ]
  },
  {
   "attachments": {},
   "cell_type": "markdown",
   "metadata": {},
   "source": [
    "To also make sure we removed null values, we can check the number of null values in each column using the `isnull()` function."
   ]
  },
  {
   "cell_type": "code",
   "execution_count": 8,
   "metadata": {},
   "outputs": [
    {
     "name": "stdout",
     "output_type": "stream",
     "text": [
      "cookie          0\n",
      "ingredients     0\n",
      "calories        0\n",
      "radius          0\n",
      "cost_to_make    0\n",
      "dtype: int64\n"
     ]
    }
   ],
   "source": [
    "#TODO: use the isnull method to make sure your data is clean\n",
    "print(cookies.isnull().sum())"
   ]
  },
  {
   "cell_type": "markdown",
   "metadata": {},
   "source": [
    "Next, lets check for duplicate rows using the `duplicated()` function. Then, remove those rows using `drop_duplicates()` function.\n"
   ]
  },
  {
   "cell_type": "code",
   "execution_count": 9,
   "metadata": {},
   "outputs": [
    {
     "name": "stdout",
     "output_type": "stream",
     "text": [
      "Duplciated Rows\n",
      "              cookie                                        ingredients  \\\n",
      "3    red velvet rauw  [\"flour\",\"cocoa powder\",\"butter\",\"red food col...   \n",
      "15      orange ozuna   [\"flour\",\"orange juice\",\"sugar\",\"vegetable oil\"]   \n",
      "16       minty miami          [\"flour\",\"mint extract\",\"sugar\",\"butter\"]   \n",
      "20   red velvet rauw  [\"flour\",\"cocoa powder\",\"butter\",\"red food col...   \n",
      "26      orange ozuna   [\"flour\",\"orange juice\",\"sugar\",\"vegetable oil\"]   \n",
      "27       minty miami          [\"flour\",\"mint extract\",\"sugar\",\"butter\"]   \n",
      "33   red velvet rauw  [\"flour\",\"cocoa powder\",\"butter\",\"red food col...   \n",
      "120      minty miami          [\"flour\",\"mint extract\",\"sugar\",\"butter\"]   \n",
      "123     orange ozuna   [\"flour\",\"orange juice\",\"sugar\",\"vegetable oil\"]   \n",
      "124      minty miami          [\"flour\",\"mint extract\",\"sugar\",\"butter\"]   \n",
      "128        chocolate       [\"flour\",\"chocolate chips\",\"sugar\",\"butter\"]   \n",
      "\n",
      "     calories  radius  cost_to_make  \n",
      "3         198   3.780          1.07  \n",
      "15        162   3.241          1.15  \n",
      "16        204   3.964          0.84  \n",
      "20        198   3.780          1.07  \n",
      "26        162   3.241          1.15  \n",
      "27        204   3.964          0.84  \n",
      "33        198   3.780          1.07  \n",
      "120       184   3.743          0.74  \n",
      "123       162   3.241          1.15  \n",
      "124       204   3.964          0.84  \n",
      "128       209   3.182          1.53  \n"
     ]
    }
   ],
   "source": [
    "# TODO: check for duplicate rows\n",
    "# then delete those rows form df\n",
    "duplicatedRows = cookies[cookies.duplicated()]\n",
    "if not duplicatedRows.empty:\n",
    "    print(\"Duplciated Rows\")\n",
    "    print(duplicatedRows)\n",
    "else:\n",
    "    print(\"No dupes found\")\n",
    "\n",
    "cookies.drop_duplicates(inplace=True)"
   ]
  },
  {
   "attachments": {},
   "cell_type": "markdown",
   "metadata": {},
   "source": [
    "### Parsing the data\n",
    "Now that we have the data, we could parse it to get the information we want. For example, we can check what types of cookies were made by using the `unique()` function on the `cookie` column."
   ]
  },
  {
   "cell_type": "code",
   "execution_count": 10,
   "metadata": {},
   "outputs": [
    {
     "name": "stdout",
     "output_type": "stream",
     "text": [
      "Types of Cookies Made:\n",
      "laddoo lemon\n",
      "red velvet rauw\n",
      "nevadito\n",
      "bad berry bunny\n",
      "orange ozuna\n",
      "minty miami\n",
      "chocolate\n"
     ]
    }
   ],
   "source": [
    "#TODO: see what cookies are in the dataset\n",
    "cookie_types = cookies['cookie'].unique()\n",
    "print(\"Types of Cookies Made:\")\n",
    "for c in cookie_types:\n",
    "    print(c)"
   ]
  },
  {
   "attachments": {},
   "cell_type": "markdown",
   "metadata": {},
   "source": [
    "We can also check the number of cookies made by using the `value_counts()` function on the `cookie` column."
   ]
  },
  {
   "cell_type": "code",
   "execution_count": 11,
   "metadata": {},
   "outputs": [
    {
     "name": "stdout",
     "output_type": "stream",
     "text": [
      "cookie\n",
      "red velvet rauw    17\n",
      "orange ozuna       16\n",
      "nevadito           15\n",
      "bad berry bunny    15\n",
      "minty miami        15\n",
      "laddoo lemon       13\n",
      "chocolate          12\n",
      "Name: count, dtype: int64\n"
     ]
    }
   ],
   "source": [
    "#TODO: use value_counts() to see how many \n",
    "# cookies of each type there are\n",
    "cookie_count = cookies['cookie'].value_counts()\n",
    "print(cookie_count)\n"
   ]
  },
  {
   "attachments": {},
   "cell_type": "markdown",
   "metadata": {},
   "source": [
    "Or maybe we don't like how long the names of the cookies are, so we can shorten them by using the `replace()` function on the `cookie` column.\n",
    "\n",
    "For example, let's try changing `\"bad berry bunny\"` to `\"bbb\"`."
   ]
  },
  {
   "cell_type": "code",
   "execution_count": 12,
   "metadata": {},
   "outputs": [
    {
     "name": "stdout",
     "output_type": "stream",
     "text": [
      "              cookie                                        ingredients  \\\n",
      "0       laddoo lemon             [\"flour\",\"lemon juice\",\"sugar\",\"ghee\"]   \n",
      "1    red velvet rauw  [\"flour\",\"cocoa powder\",\"butter\",\"red food col...   \n",
      "2           nevadito  [\"flour\",\"chocolate chips\",\"milk\",\"vanilla ext...   \n",
      "4                bbb           [\"flour\",\"blueberries\",\"sugar\",\"butter\"]   \n",
      "5       orange ozuna   [\"flour\",\"orange juice\",\"sugar\",\"vegetable oil\"]   \n",
      "..               ...                                                ...   \n",
      "121        chocolate       [\"flour\",\"chocolate chips\",\"sugar\",\"butter\"]   \n",
      "122     laddoo lemon             [\"flour\",\"lemon juice\",\"sugar\",\"ghee\"]   \n",
      "125         nevadito  [\"flour\",\"chocolate chips\",\"milk\",\"vanilla ext...   \n",
      "126  red velvet rauw  [\"flour\",\"cocoa powder\",\"butter\",\"red food col...   \n",
      "127              bbb           [\"flour\",\"blueberries\",\"sugar\",\"butter\"]   \n",
      "\n",
      "     calories  radius  cost_to_make  \n",
      "0         170   3.102          0.67  \n",
      "1         198   3.780          1.07  \n",
      "2         224   4.069          1.04  \n",
      "4         191   4.148          1.39  \n",
      "5         162   3.241          1.15  \n",
      "..        ...     ...           ...  \n",
      "121       227   4.085          1.42  \n",
      "122       170   3.916          2.00  \n",
      "125       211   3.915          1.61  \n",
      "126       197   3.906          1.33  \n",
      "127       199   4.281          1.36  \n",
      "\n",
      "[103 rows x 5 columns]\n"
     ]
    }
   ],
   "source": [
    "#TODO: change bad berry bunny data elements to \"bbb\"\n",
    "cookies['cookie'] = cookies['cookie'].replace(\"bad berry bunny\", \"bbb\")\n",
    "print(cookies)"
   ]
  },
  {
   "attachments": {},
   "cell_type": "markdown",
   "metadata": {},
   "source": [
    "We may even like the original names better, but we may want to get rid of the spaces. For example, we can change `\"orange ozuna\"` to `\"orange_ozuna\"`. Here, we will use the `str.replace()` function."
   ]
  },
  {
   "cell_type": "code",
   "execution_count": 13,
   "metadata": {},
   "outputs": [
    {
     "name": "stdout",
     "output_type": "stream",
     "text": [
      "              cookie                                        ingredients  \\\n",
      "0       laddoo_lemon             [\"flour\",\"lemon juice\",\"sugar\",\"ghee\"]   \n",
      "1    red_velvet_rauw  [\"flour\",\"cocoa powder\",\"butter\",\"red food col...   \n",
      "2           nevadito  [\"flour\",\"chocolate chips\",\"milk\",\"vanilla ext...   \n",
      "4                bbb           [\"flour\",\"blueberries\",\"sugar\",\"butter\"]   \n",
      "5       orange_ozuna   [\"flour\",\"orange juice\",\"sugar\",\"vegetable oil\"]   \n",
      "..               ...                                                ...   \n",
      "121        chocolate       [\"flour\",\"chocolate chips\",\"sugar\",\"butter\"]   \n",
      "122     laddoo_lemon             [\"flour\",\"lemon juice\",\"sugar\",\"ghee\"]   \n",
      "125         nevadito  [\"flour\",\"chocolate chips\",\"milk\",\"vanilla ext...   \n",
      "126  red_velvet_rauw  [\"flour\",\"cocoa powder\",\"butter\",\"red food col...   \n",
      "127              bbb           [\"flour\",\"blueberries\",\"sugar\",\"butter\"]   \n",
      "\n",
      "     calories  radius  cost_to_make  \n",
      "0         170   3.102          0.67  \n",
      "1         198   3.780          1.07  \n",
      "2         224   4.069          1.04  \n",
      "4         191   4.148          1.39  \n",
      "5         162   3.241          1.15  \n",
      "..        ...     ...           ...  \n",
      "121       227   4.085          1.42  \n",
      "122       170   3.916          2.00  \n",
      "125       211   3.915          1.61  \n",
      "126       197   3.906          1.33  \n",
      "127       199   4.281          1.36  \n",
      "\n",
      "[103 rows x 5 columns]\n"
     ]
    }
   ],
   "source": [
    "#TODO: adjust orange ozuna as described\n",
    "cookies['cookie'] = cookies['cookie'].str.replace(\" \", \"_\")\n",
    "print(cookies)"
   ]
  },
  {
   "attachments": {},
   "cell_type": "markdown",
   "metadata": {},
   "source": [
    "We may even just want to keep the first word of the cookie name. For example, we can change `\"orange_ozuna\"` to `\"orange\"`."
   ]
  },
  {
   "cell_type": "code",
   "execution_count": 15,
   "metadata": {},
   "outputs": [
    {
     "name": "stdout",
     "output_type": "stream",
     "text": [
      "        cookie                                        ingredients  calories  \\\n",
      "0       laddoo             [\"flour\",\"lemon juice\",\"sugar\",\"ghee\"]       170   \n",
      "1          red  [\"flour\",\"cocoa powder\",\"butter\",\"red food col...       198   \n",
      "2     nevadito  [\"flour\",\"chocolate chips\",\"milk\",\"vanilla ext...       224   \n",
      "4          bbb           [\"flour\",\"blueberries\",\"sugar\",\"butter\"]       191   \n",
      "5       orange   [\"flour\",\"orange juice\",\"sugar\",\"vegetable oil\"]       162   \n",
      "..         ...                                                ...       ...   \n",
      "121  chocolate       [\"flour\",\"chocolate chips\",\"sugar\",\"butter\"]       227   \n",
      "122     laddoo             [\"flour\",\"lemon juice\",\"sugar\",\"ghee\"]       170   \n",
      "125   nevadito  [\"flour\",\"chocolate chips\",\"milk\",\"vanilla ext...       211   \n",
      "126        red  [\"flour\",\"cocoa powder\",\"butter\",\"red food col...       197   \n",
      "127        bbb           [\"flour\",\"blueberries\",\"sugar\",\"butter\"]       199   \n",
      "\n",
      "     radius  cost_to_make  \n",
      "0     3.102          0.67  \n",
      "1     3.780          1.07  \n",
      "2     4.069          1.04  \n",
      "4     4.148          1.39  \n",
      "5     3.241          1.15  \n",
      "..      ...           ...  \n",
      "121   4.085          1.42  \n",
      "122   3.916          2.00  \n",
      "125   3.915          1.61  \n",
      "126   3.906          1.33  \n",
      "127   4.281          1.36  \n",
      "\n",
      "[103 rows x 5 columns]\n"
     ]
    }
   ],
   "source": [
    "#TODO: adjust all cookies so only the first word\n",
    "# is used as the cookie name\n",
    "cookies['cookie'] = cookies['cookie'].str.split('_').str[0]\n",
    "print(cookies)"
   ]
  },
  {
   "attachments": {},
   "cell_type": "markdown",
   "metadata": {},
   "source": [
    "Another thing that may come to mind is that maybe getting flour could cost more money due to inflation, so we have to adjust our `cost_to_make` values. We can do this by using the `apply()` function on the `cost_to_make` column."
   ]
  },
  {
   "cell_type": "code",
   "execution_count": 18,
   "metadata": {},
   "outputs": [
    {
     "name": "stdout",
     "output_type": "stream",
     "text": [
      "        cookie                                        ingredients  calories  \\\n",
      "0       laddoo             [\"flour\",\"lemon juice\",\"sugar\",\"ghee\"]       170   \n",
      "1          red  [\"flour\",\"cocoa powder\",\"butter\",\"red food col...       198   \n",
      "2     nevadito  [\"flour\",\"chocolate chips\",\"milk\",\"vanilla ext...       224   \n",
      "4          bbb           [\"flour\",\"blueberries\",\"sugar\",\"butter\"]       191   \n",
      "5       orange   [\"flour\",\"orange juice\",\"sugar\",\"vegetable oil\"]       162   \n",
      "..         ...                                                ...       ...   \n",
      "121  chocolate       [\"flour\",\"chocolate chips\",\"sugar\",\"butter\"]       227   \n",
      "122     laddoo             [\"flour\",\"lemon juice\",\"sugar\",\"ghee\"]       170   \n",
      "125   nevadito  [\"flour\",\"chocolate chips\",\"milk\",\"vanilla ext...       211   \n",
      "126        red  [\"flour\",\"cocoa powder\",\"butter\",\"red food col...       197   \n",
      "127        bbb           [\"flour\",\"blueberries\",\"sugar\",\"butter\"]       199   \n",
      "\n",
      "     radius  cost_to_make  \n",
      "0     3.102          2.17  \n",
      "1     3.780          2.57  \n",
      "2     4.069          2.54  \n",
      "4     4.148          2.89  \n",
      "5     3.241          2.65  \n",
      "..      ...           ...  \n",
      "121   4.085          2.92  \n",
      "122   3.916          3.50  \n",
      "125   3.915          3.11  \n",
      "126   3.906          2.83  \n",
      "127   4.281          2.86  \n",
      "\n",
      "[103 rows x 5 columns]\n"
     ]
    }
   ],
   "source": [
    "#Don't edit this method\n",
    "def adjust_cost(cost):\n",
    "    return cost + 0.5\n",
    "\n",
    "cookies['cost_to_make'] = cookies['cost_to_make'].apply(adjust_cost)\n",
    "print(cookies)\n",
    "#TODO: use apply() to adjust the cost_to_make column."
   ]
  },
  {
   "attachments": {},
   "cell_type": "markdown",
   "metadata": {},
   "source": [
    "And we can do a lot more things! We will see these concepts be used in the next homework assignment, along with a couple new ones to show you how powerful Pandas is."
   ]
  },
  {
   "attachments": {},
   "cell_type": "markdown",
   "metadata": {},
   "source": [
    "### More complicated operations: Grouping, Filtering, Aggregating"
   ]
  },
  {
   "cell_type": "markdown",
   "metadata": {},
   "source": [
    "Before trying out these complicated operations, lets first sort the sort the df by the radius of the cookies using the `sort_values()` function."
   ]
  },
  {
   "cell_type": "code",
   "execution_count": 31,
   "metadata": {},
   "outputs": [
    {
     "name": "stdout",
     "output_type": "stream",
     "text": [
      "     cookie                                        ingredients  calories  \\\n",
      "110     red  [\"flour\",\"cocoa powder\",\"butter\",\"red food col...       198   \n",
      "30      red  [\"flour\",\"cocoa powder\",\"butter\",\"red food col...       204   \n",
      "60   orange   [\"flour\",\"orange juice\",\"sugar\",\"vegetable oil\"]       186   \n",
      "49   laddoo             [\"flour\",\"lemon juice\",\"sugar\",\"ghee\"]       195   \n",
      "101  laddoo             [\"flour\",\"lemon juice\",\"sugar\",\"ghee\"]       178   \n",
      "..      ...                                                ...       ...   \n",
      "93    minty          [\"flour\",\"mint extract\",\"sugar\",\"butter\"]       198   \n",
      "0    laddoo             [\"flour\",\"lemon juice\",\"sugar\",\"ghee\"]       170   \n",
      "22      bbb           [\"flour\",\"blueberries\",\"sugar\",\"butter\"]       184   \n",
      "32    minty          [\"flour\",\"mint extract\",\"sugar\",\"butter\"]       178   \n",
      "78   orange   [\"flour\",\"orange juice\",\"sugar\",\"vegetable oil\"]       166   \n",
      "\n",
      "     radius  cost_to_make  \n",
      "110   4.930          2.55  \n",
      "30    4.667          2.90  \n",
      "60    4.573          2.56  \n",
      "49    4.562          2.12  \n",
      "101   4.519          2.91  \n",
      "..      ...           ...  \n",
      "93    3.128          2.09  \n",
      "0     3.102          2.17  \n",
      "22    2.982          3.51  \n",
      "32    2.952          2.34  \n",
      "78    1.695          2.32  \n",
      "\n",
      "[103 rows x 5 columns]\n"
     ]
    }
   ],
   "source": [
    "# TODO: sort the df using sort_values(by='Column', ascending=False)\n",
    "cookies = cookies.sort_values(by='radius', ascending=False)\n",
    "print(cookies)"
   ]
  },
  {
   "attachments": {},
   "cell_type": "markdown",
   "metadata": {},
   "source": [
    "We may also want to group data by certain attributes. This can be done by using `groupby()`. This method takes in a column name, and groups the data by the values in that column. For example, we can group the data by the `cookie` column."
   ]
  },
  {
   "cell_type": "code",
   "execution_count": 17,
   "metadata": {},
   "outputs": [],
   "source": [
    "#TODO: group by cookie type"
   ]
  },
  {
   "attachments": {},
   "cell_type": "markdown",
   "metadata": {},
   "source": [
    "We can also group by multiple columns. For example, we can group the data by the `cookie` and `ingredients` columns."
   ]
  },
  {
   "cell_type": "code",
   "execution_count": 18,
   "metadata": {},
   "outputs": [],
   "source": [
    "#TODO: group by cookie type and ingredients"
   ]
  },
  {
   "attachments": {},
   "cell_type": "markdown",
   "metadata": {},
   "source": [
    "We may also want to filter the data. For example, we can filter the data to only show the cookies that have a radius greater than 4.3 cm. We can do this by indexing the DataFrame with a boolean expression."
   ]
  },
  {
   "cell_type": "code",
   "execution_count": 19,
   "metadata": {},
   "outputs": [],
   "source": [
    "#TODO: filter using the boolean expression"
   ]
  },
  {
   "attachments": {},
   "cell_type": "markdown",
   "metadata": {},
   "source": [
    "We may even want to use `groupby()` and filter idea together! For example, we can filter the data to only show the cookies that have a radius greater than 4.3 cm, and group the data by the `cookie` column."
   ]
  },
  {
   "cell_type": "code",
   "execution_count": 20,
   "metadata": {},
   "outputs": [],
   "source": [
    "#TODO: filter the data using the boolean expression\n",
    "# then group by cookie column"
   ]
  },
  {
   "attachments": {},
   "cell_type": "markdown",
   "metadata": {},
   "source": [
    "We may also want to aggregate the data. For example, we can aggregate the data by looking at the ratio of calories to radius. We can do this by using indexing and the `apply()` function."
   ]
  },
  {
   "cell_type": "code",
   "execution_count": 21,
   "metadata": {},
   "outputs": [],
   "source": [
    "#TODO: add a column to the dataframe that is the\n",
    "# calories per radius"
   ]
  },
  {
   "attachments": {},
   "cell_type": "markdown",
   "metadata": {},
   "source": [
    "Or we can just get rid of this column if we find it useless. We can do this by using the `drop()` function or indexing."
   ]
  },
  {
   "cell_type": "code",
   "execution_count": 22,
   "metadata": {},
   "outputs": [],
   "source": [
    "#TODO: drop the created column"
   ]
  },
  {
   "attachments": {},
   "cell_type": "markdown",
   "metadata": {},
   "source": [
    "### Visualizing the data"
   ]
  },
  {
   "attachments": {},
   "cell_type": "markdown",
   "metadata": {},
   "source": [
    "We can also visualize the data. For example, we can visualize the data by plotting the radius of the cookies against the cost to make the cookies. We can do this by using the `plot()` function."
   ]
  },
  {
   "cell_type": "code",
   "execution_count": 23,
   "metadata": {},
   "outputs": [],
   "source": [
    "#TODO: plot the radius (x) versus cost to make (y)"
   ]
  },
  {
   "attachments": {},
   "cell_type": "markdown",
   "metadata": {},
   "source": [
    "We may even want to get more specific and visualize the shape of a distribution of the `laddoo lemon`'s radius by making a boxplot. We can also do this by using the `plot()` function."
   ]
  },
  {
   "cell_type": "code",
   "execution_count": 24,
   "metadata": {},
   "outputs": [],
   "source": [
    "#TODO: add the described boxplot\n",
    "# remember that you changed the name from laddoo lemon to laddoo"
   ]
  },
  {
   "attachments": {},
   "cell_type": "markdown",
   "metadata": {},
   "source": [
    "Alternatively, we can create a histogram to visualize the distribution of the `laddoo lemon`'s radius. We can also do this by using the `plot()` function."
   ]
  },
  {
   "cell_type": "code",
   "execution_count": 25,
   "metadata": {},
   "outputs": [],
   "source": [
    "#TODO: add the described histogram"
   ]
  },
  {
   "attachments": {},
   "cell_type": "markdown",
   "metadata": {},
   "source": [
    "Things can get more complicated too. Maybe we want to analyze the behaviors of `bad berry bunny` and `laddoo lemon`'s radius using a boxplot. But this time, let's try it using the alternative `boxplot()` function. For practice, try doing it with `plot()` too!"
   ]
  },
  {
   "cell_type": "code",
   "execution_count": 26,
   "metadata": {},
   "outputs": [],
   "source": [
    "#TODO: analyze the two cookie's radius in a boxplot"
   ]
  },
  {
   "attachments": {},
   "cell_type": "markdown",
   "metadata": {},
   "source": [
    "### Practice Problems\n",
    "Now that you have learned some of Pandas' capabilities, let's try some practice problems! **This is the part that will be checked when you submit it!**"
   ]
  },
  {
   "attachments": {},
   "cell_type": "markdown",
   "metadata": {},
   "source": [
    "#### Problem 1\n",
    "How many cookies were made? (Hint: use the `shape` attribute)"
   ]
  },
  {
   "cell_type": "code",
   "execution_count": 32,
   "metadata": {},
   "outputs": [
    {
     "name": "stdout",
     "output_type": "stream",
     "text": [
      "This is the number of cookies made:\n",
      "103\n"
     ]
    }
   ],
   "source": [
    "#Add your code here\n",
    "#Num rows\n",
    "num_cookies_made = cookies.shape[0]\n",
    "print(\"This is the number of cookies made:\")\n",
    "print(num_cookies_made)"
   ]
  },
  {
   "attachments": {},
   "cell_type": "markdown",
   "metadata": {},
   "source": [
    "#### Problem 2\n",
    "Add a column to the DataFrame that has the value `True` if the cookie has a radius greater than 4 cm, and `False` otherwise. (Hint: use the `apply()` function)"
   ]
  },
  {
   "cell_type": "code",
   "execution_count": 28,
   "metadata": {},
   "outputs": [],
   "source": [
    "#Add your code here"
   ]
  },
  {
   "attachments": {},
   "cell_type": "markdown",
   "metadata": {},
   "source": [
    "#### Problem 3\n",
    "\n",
    "Group the data by the `cookie` column, and find the average radius of each cookie. (Hint: use the `groupby()` and `transform()` function). Add this column to the DataFrame."
   ]
  },
  {
   "cell_type": "code",
   "execution_count": 29,
   "metadata": {},
   "outputs": [],
   "source": [
    "#Add your code here"
   ]
  },
  {
   "attachments": {},
   "cell_type": "markdown",
   "metadata": {},
   "source": [
    "#### Problem 4\n",
    "Create a new DataFrame that only contains the cookies that have the ingredient `\"chocolate chips\"`. (Hint: use the `str.contains()` function)"
   ]
  },
  {
   "cell_type": "code",
   "execution_count": 30,
   "metadata": {},
   "outputs": [],
   "source": [
    "#Add your code here"
   ]
  },
  {
   "attachments": {},
   "cell_type": "markdown",
   "metadata": {},
   "source": [
    "#### Problem 5\n",
    "\n",
    "Create a boxplot of `cost_to_make` for all cookies except `chocolate` using the `boxplot()` function."
   ]
  },
  {
   "cell_type": "code",
   "execution_count": 31,
   "metadata": {},
   "outputs": [],
   "source": [
    "#Add your code here"
   ]
  },
  {
   "attachments": {},
   "cell_type": "markdown",
   "metadata": {},
   "source": [
    "#### Problem 6\n",
    "\n",
    "Create a histogram of the `bad berry bunny`'s calories using the `plot()` function."
   ]
  },
  {
   "cell_type": "code",
   "execution_count": 32,
   "metadata": {},
   "outputs": [],
   "source": [
    "#Add your code here"
   ]
  },
  {
   "cell_type": "markdown",
   "metadata": {},
   "source": [
    "#### Problem 7\n",
    "\n",
    "Calculate the average calories per cookie type and display the result in a bar chart."
   ]
  },
  {
   "cell_type": "code",
   "execution_count": 33,
   "metadata": {},
   "outputs": [],
   "source": [
    "#Add your code here"
   ]
  },
  {
   "cell_type": "markdown",
   "metadata": {},
   "source": [
    "#### Problem 8\n",
    "\n",
    "Find the top 3 most expensive cookies in terms of cost_to_make"
   ]
  },
  {
   "cell_type": "code",
   "execution_count": 34,
   "metadata": {},
   "outputs": [],
   "source": [
    "#Add your code here"
   ]
  }
 ],
 "metadata": {
  "kernelspec": {
   "display_name": "Python 3 (ipykernel)",
   "language": "python",
   "name": "python3"
  },
  "language_info": {
   "codemirror_mode": {
    "name": "ipython",
    "version": 3
   },
   "file_extension": ".py",
   "mimetype": "text/x-python",
   "name": "python",
   "nbconvert_exporter": "python",
   "pygments_lexer": "ipython3",
   "version": "3.11.1"
  },
  "vscode": {
   "interpreter": {
    "hash": "63639127d0784e8e4de1a76bcacd89583be09d9f82d600966cd9457d183cbbf7"
   }
  }
 },
 "nbformat": 4,
 "nbformat_minor": 4
}
